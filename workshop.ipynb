{
 "cells": [
  {
   "cell_type": "code",
   "execution_count": null,
   "metadata": {},
   "outputs": [],
   "source": [
    "# pip install -U \"git+https://github.com/weaviate/weaviate-python-client.git@v3.99.0a3#egg=weaviate-client[GRPC]\"\n",
    "\n",
    "# Instantiation\n",
    "import weaviate\n",
    "from weaviate import Config\n",
    "import weaviate.classes as wvc\n",
    "import os\n",
    "\n",
    "client = weaviate.Client(\n",
    "    \"http://localhost:8080\",\n",
    "    additional_config=Config(grpc_port_experimental=50051),\n",
    "    # ⬇️ Optional, if you want to try it with an inference API / generative serach:\n",
    "    additional_headers={\n",
    "        \"X-OpenAI-Api-Key\": os.environ[\"OPENAI_APIKEY\"],  # Replace with your key\n",
    "    },\n",
    ")"
   ]
  }
 ],
 "metadata": {
  "language_info": {
   "name": "python"
  }
 },
 "nbformat": 4,
 "nbformat_minor": 2
}
